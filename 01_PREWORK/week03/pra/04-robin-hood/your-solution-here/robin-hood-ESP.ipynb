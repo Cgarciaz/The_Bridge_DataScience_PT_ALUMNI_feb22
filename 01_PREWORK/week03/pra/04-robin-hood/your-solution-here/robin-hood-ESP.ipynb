{
 "cells": [
  {
   "cell_type": "markdown",
   "metadata": {},
   "source": [
    "# Robin Hood: \n",
    "Estamos en plena competición para ganar el concurso de tiro con arco en Sherwood. Con nuestro arco y flechas disparamos sobre una diana e intentamos acertar lo más cerca posible del centro. \n",
    "\n",
    "El centro de la diana viene representado por los valores (0, 0) en los ejes de coordenadas. \n",
    "\n",
    "## Objetivos: \n",
    "* estructuras de datos: listas, conjuntos, tuplas\n",
    "* operadores lógicos: if-elif-else\n",
    "* bucle: while/for\n",
    "* cálculo de mínimo (sorting opcional)\n",
    "\n",
    "## Descripción: \n",
    "En el espacio de 2 dimensiones un punto se puede definir por un par de valores que corresponden a la coordenada horizontal (x) y a la vertical (y). El espacio puede quedar dividido en 4 zonas (cuadrantes): Q1, Q2, Q3, Q4. Cuyo punto de unión único es el punto (0, 0). \n",
    "\n",
    "Si un punto se encuentra en Q1 tanto su coordenada x como la y son positivas. Te dejo un enlace a wikipedia para que te familiarices con estos cuadrantes. \n",
    "\n",
    "https://es.wikipedia.org/wiki/Coordenadas_cartesianas\n",
    "\n",
    "https://es.wikipedia.org/wiki/Distancia_euclidiana\n",
    "\n",
    "## Tareas\n",
    "1. Robin Hood es famoso por acertar a una flecha con otra flecha. ¿Lo ha conseguido? \n",
    "2. Calcula cuántos flechazos han caido en cada cuadrante. \n",
    "3. Halla el punto más cercano al centro. Calcula su distancia al centro\n",
    "4. Si la diana tiene un radio de 9, calcula el número de flechas que hay que recoger al bosque. "
   ]
  },
  {
   "cell_type": "code",
   "execution_count": 77,
   "metadata": {},
   "outputs": [
    {
     "name": "stdout",
     "output_type": "stream",
     "text": [
      "Lo ha conseguido\n",
      "Cuadrante I: 10\n",
      "Cuadrante II: 8\n",
      "Cuadrante III: 2\n",
      "Cuadrante IV: 2\n",
      "Los puntos más cercanos al centro son: [(0, 2), (0, -2)]\n",
      "Hay que recoger al bosque 2 flechas\n"
     ]
    }
   ],
   "source": [
    "puntos = [(4,5), (-0,2), (4,7), (1,-3), (3,-2), (4,5), \n",
    "          (3,2), (5,7), (-5,7), (2,2), (-4,5), (0,-2), \n",
    "          (-4,7), (-1,3), (-3,2), (-4,-5), (-3,2), \n",
    "          (5,7), (5,7), (2,2), (9, 9), (-8, -9)]\n",
    "\n",
    "# 1. Robin Hood es famoso por acertar a una flecha con otra flecha. ¿Lo ha conseguido? \n",
    "n_aciertos = 0\n",
    "\n",
    "for i in range(0,len(puntos)):\n",
    "    for j in range(i+1,len(puntos)):\n",
    "        if puntos[i] == puntos[j]:\n",
    "            n_aciertos += 1\n",
    "\n",
    "if n_aciertos > 1:\n",
    "    print('Lo ha conseguido')\n",
    "\n",
    "# 2. Calcula cuántos flechazos han caido en cada cuadrante. \n",
    "q1, q2, q3, q4 = 0, 0, 0, 0\n",
    "\n",
    "for i  in range(0, len(puntos)):\n",
    "    if puntos[i][0] > 0 and puntos[i][1] > 0:\n",
    "        q1 += 1\n",
    "    elif puntos[i][0] < 0 and puntos[i][1] < 0:\n",
    "        q3 += 1\n",
    "    elif puntos[i][0] > 0 and puntos[i][1] < 0:\n",
    "        q4 += 1\n",
    "    else:\n",
    "        q2 += 1\n",
    "\n",
    "print(f\"Cuadrante I: {q1}\\nCuadrante II: {q2}\\nCuadrante III: {q3}\\nCuadrante IV: {q4}\")\n",
    "\n",
    "# 3. Halla el punto más cercano al centro. Calcula su distancia al centro\n",
    "# Definir una función que calcula la distancia al centro puede servir de ayuda. \n",
    "from math import sqrt\n",
    "\n",
    "centro = (0,0)\n",
    "n_distancia = []\n",
    "punto_cercano = []\n",
    "\n",
    "def distancia(p1, p2):\n",
    "    x, y = 0, 1\n",
    "    return sqrt( (p2[x] - p1[x])**2 + (p2[y] - p1[y])**2 )\n",
    "\n",
    "for i in puntos:\n",
    "    n_distancia.append(distancia(centro, i))\n",
    "\n",
    "min_distancia = min(n_distancia)\n",
    "\n",
    "for i in range(0, len(n_distancia)):\n",
    "    if min_distancia == n_distancia[i]:\n",
    "        punto_cercano.append(puntos[i])\n",
    "print(f\"Los puntos más cercanos al centro son: {punto_cercano}\")\n",
    "\n",
    "# 4. Si la diana tiene un radio de 9, calcula el número de flechas que hay que recoger al bosque. \n",
    "n_flechas_recoger = 0\n",
    "\n",
    "for i in puntos:\n",
    "    if distancia(centro, i) >= 9:\n",
    "        n_flechas_recoger += 1\n",
    "\n",
    "print(f\"Hay que recoger al bosque {n_flechas_recoger} flechas\") \n"
   ]
  },
  {
   "cell_type": "code",
   "execution_count": null,
   "metadata": {},
   "outputs": [],
   "source": []
  }
 ],
 "metadata": {
  "kernelspec": {
   "display_name": "Python 3",
   "language": "python",
   "name": "python3"
  },
  "language_info": {
   "codemirror_mode": {
    "name": "ipython",
    "version": 3
   },
   "file_extension": ".py",
   "mimetype": "text/x-python",
   "name": "python",
   "nbconvert_exporter": "python",
   "pygments_lexer": "ipython3",
   "version": "3.6.7"
  }
 },
 "nbformat": 4,
 "nbformat_minor": 2
}
