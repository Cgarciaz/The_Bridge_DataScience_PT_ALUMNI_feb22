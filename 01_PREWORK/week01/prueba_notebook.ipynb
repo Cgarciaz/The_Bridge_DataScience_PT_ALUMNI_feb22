{
 "cells": [
  {
   "cell_type": "code",
   "execution_count": 1,
   "metadata": {},
   "outputs": [
    {
     "name": "stdout",
     "output_type": "stream",
     "text": [
      "Hello TheBridge!\n"
     ]
    }
   ],
   "source": [
    "print(\"Hello TheBridge!\")"
   ]
  },
  {
   "cell_type": "markdown",
   "metadata": {},
   "source": [
    "# Heading 1\n",
    "Aquí una pequeña descripción\n",
    "\n",
    "## Header 2\n",
    "\n",
    "Algo más de texto en **negrita** o *cursiva* o ***negrita_cursiva***\n",
    "\n",
    "- item 1\n",
    "- item 2\n",
    "- item 3\n",
    "\n",
    "* item 1\n",
    "* item 2\n",
    "\n",
    "### Header 3"
   ]
  }
 ],
 "metadata": {
  "interpreter": {
   "hash": "c6d292a74ecf5c8470ce6de7ad2498913762517407d13b9951dbd48a22f186af"
  },
  "kernelspec": {
   "display_name": "Python 3.9.5 ('the_bridge_22')",
   "language": "python",
   "name": "python3"
  },
  "language_info": {
   "codemirror_mode": {
    "name": "ipython",
    "version": 3
   },
   "file_extension": ".py",
   "mimetype": "text/x-python",
   "name": "python",
   "nbconvert_exporter": "python",
   "pygments_lexer": "ipython3",
   "version": "3.9.5"
  },
  "orig_nbformat": 4
 },
 "nbformat": 4,
 "nbformat_minor": 2
}
