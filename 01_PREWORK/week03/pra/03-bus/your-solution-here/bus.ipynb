{
 "cells": [
  {
   "cell_type": "markdown",
   "metadata": {},
   "source": [
    "# Bus\n",
    "\n",
    "Este bus tiene un sistema de control de subida y bajada de pasajeros para monitorizar el número de ocupantes que lleva y así detectar cuando hay un aforo demasiado alto. \n",
    "\n",
    "En cada parada la subida y bajada de pasajeros se representa por una tupla compuesta por dos números enteros. \n",
    "```\n",
    "bus_stop = (in, out)\n",
    "```\n",
    "La sucesión de paradas se representa con una lista estas tuplas.\n",
    "```\n",
    "stops = [(in1, out1), (in2, out2), (in3, out3), (in4, out4)]\n",
    "```\n",
    "\n",
    "## Objetivos: \n",
    "* listas, tuplas\n",
    "* bucles while/for\n",
    "* mínimo, máximo, longitud\n",
    "* media, desviación estandard\n",
    "\n",
    "## Tareas\n",
    "1. Calcula el número de paradas. \n",
    "2. Asigna a una variable una lista cuyos elementos sean el número de pasajeros en cada parada (in-out), \n",
    "3. Halla el máximo de ocupación del autobús. \n",
    "4. Calcula la media de la ocupación. Y la desviación estandard. \n"
   ]
  },
  {
   "cell_type": "code",
   "execution_count": 34,
   "metadata": {},
   "outputs": [
    {
     "name": "stdout",
     "output_type": "stream",
     "text": [
      "El número de paradas es: 9\n",
      "[10, 13, 11, 10, 14, 10, 7, 5]\n",
      "14\n",
      "10.0 0.8660254037844386\n"
     ]
    }
   ],
   "source": [
    "stops = [(10, 0), (4, 1), (3, 5), (3, 4), (5, 1), (1, 5), (5, 8), (4, 6), (2, 3)]\n",
    "\n",
    "# 1. Calcula el número de paradas. \n",
    "n_parada = len(stops)\n",
    "print(f'El número de paradas es: {n_parada}')\n",
    "\n",
    "# 2. Asigna a una variable una lista cuyos elementos sean el número de pasajeros en \n",
    "# cada parada: Cada elemento depende del elemento previo en la lista + in - out.  \n",
    "n_pasajero = []\n",
    "elemento_previo = 0\n",
    "\n",
    "for t in range(n_parada-1):\n",
    "    n_pasajero.append(elemento_previo + stops[t][0] - stops[t][1])\n",
    "    elemento_previo = n_pasajero[-1]\n",
    "\n",
    "print(n_pasajero)\n",
    "\n",
    "# 3. Halla el máximo de ocupación del autobús. \n",
    "print(max(n_pasajero))\n",
    "\n",
    "# 4. Calcula la media de la ocupación. Y la desviación estandard. \n",
    "n_total = 0\n",
    "for i in n_pasajero:\n",
    "    n_total += i\n",
    "\n",
    "media = n_total / len(n_pasajero)\n",
    "sum_varianza = 0\n",
    "\n",
    "for i in n_pasajero:\n",
    "    sum_varianza += (i - media)**2\n",
    "\n",
    "from math import sqrt\n",
    "sigma = sqrt(sum_varianza/n_total)\n",
    "\n",
    "print(media, sigma)\n"
   ]
  },
  {
   "cell_type": "code",
   "execution_count": null,
   "metadata": {},
   "outputs": [],
   "source": []
  }
 ],
 "metadata": {
  "kernelspec": {
   "display_name": "Python 3",
   "language": "python",
   "name": "python3"
  },
  "language_info": {
   "codemirror_mode": {
    "name": "ipython",
    "version": 3
   },
   "file_extension": ".py",
   "mimetype": "text/x-python",
   "name": "python",
   "nbconvert_exporter": "python",
   "pygments_lexer": "ipython3",
   "version": "3.9.5"
  }
 },
 "nbformat": 4,
 "nbformat_minor": 2
}
